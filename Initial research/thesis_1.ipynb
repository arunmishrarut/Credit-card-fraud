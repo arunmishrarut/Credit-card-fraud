{
  "nbformat": 4,
  "nbformat_minor": 0,
  "metadata": {
    "colab": {
      "provenance": []
    },
    "kernelspec": {
      "name": "python3",
      "display_name": "Python 3"
    },
    "language_info": {
      "name": "python"
    }
  },
  "cells": [
    {
      "cell_type": "code",
      "execution_count": 1,
      "metadata": {
        "colab": {
          "base_uri": "https://localhost:8080/"
        },
        "id": "M5hmYElyWENv",
        "outputId": "6dff4ec2-d15c-412a-d826-3db7dc000682"
      },
      "outputs": [
        {
          "output_type": "stream",
          "name": "stdout",
          "text": [
            "[LibSVM]"
          ]
        },
        {
          "output_type": "stream",
          "name": "stderr",
          "text": [
            "[Parallel(n_jobs=1)]: Done  49 tasks      | elapsed:    0.3s\n",
            "[Parallel(n_jobs=1)]: Done 199 tasks      | elapsed:    1.3s\n",
            "[Parallel(n_jobs=1)]: Done 200 out of 200 | elapsed:    1.3s finished\n",
            "[Parallel(n_jobs=1)]: Done  49 tasks      | elapsed:    0.0s\n",
            "[Parallel(n_jobs=1)]: Done 199 tasks      | elapsed:    0.2s\n",
            "[Parallel(n_jobs=1)]: Done 200 out of 200 | elapsed:    0.2s finished\n"
          ]
        }
      ],
      "source": [
        "import numpy as np\n",
        "import pandas as pd\n",
        "\n",
        "from sklearn.metrics import accuracy_score, classification_report\n",
        "from sklearn.model_selection import train_test_split\n",
        "from sklearn.svm import OneClassSVM\n",
        "from sklearn.ensemble import RandomForestClassifier\n",
        "\n",
        "# Load data\n",
        "data1 = pd.read_csv('data1.csv')\n",
        "\n",
        "# Step 1: Split dataset into 70%, 15%, 15% without stratification\n",
        "train_data, temp_data = train_test_split(data1, test_size=0.3, random_state=42)\n",
        "test1_data, test2_data = train_test_split(temp_data, test_size=0.5, random_state=42)\n",
        "\n",
        "# Step 2: Prepare SVM training data (legitimate transactions only from train_data)\n",
        "X_train_nonfraud = train_data[train_data['Class'] == 0].drop(['Time', 'Class'], axis=1)\n",
        "\n",
        "# Train OneClassSVM\n",
        "svm = OneClassSVM(gamma='auto', nu=0.01, verbose=1)\n",
        "svm.fit(X_train_nonfraud)\n",
        "\n",
        "# Step 3: Detect grey area transactions in test1_data\n",
        "X_test1 = test1_data.drop(['Time', 'Class'], axis=1)\n",
        "svm_pred_test1 = svm.predict(X_test1)  # -1 = anomaly, 1 = normal\n",
        "\n",
        "# Add predictions to test1_data and filter grey area\n",
        "test1_data = test1_data.copy()  # Avoid SettingWithCopyWarning\n",
        "test1_data['SVM_Flag'] = svm_pred_test1\n",
        "grey_area = test1_data[test1_data['SVM_Flag'] == -1]\n",
        "\n",
        "# Step 4: Prepare RF training data (use original labels)\n",
        "X_grey = grey_area.drop(['Time', 'Class', 'SVM_Flag'], axis=1)\n",
        "y_grey = grey_area['Class']\n",
        "\n",
        "# Step 5: Train Random Forest (remove n_bins parameter)\n",
        "rf = RandomForestClassifier(\n",
        "    n_estimators=200,\n",
        "    max_depth=20,\n",
        "    class_weight='balanced',\n",
        "    random_state=42,\n",
        "    verbose=1\n",
        ")\n",
        "rf.fit(X_grey, y_grey)\n",
        "\n",
        "# Step 6: Predict on test2_data and evaluate\n",
        "X_test2 = test2_data.drop(['Time', 'Class'], axis=1)\n",
        "y_test2 = test2_data['Class']\n",
        "rf_pred_test2 = rf.predict(X_test2)\n",
        "\n"
      ]
    },
    {
      "cell_type": "code",
      "source": [],
      "metadata": {
        "id": "_C2VAaK6mBT4"
      },
      "execution_count": null,
      "outputs": []
    },
    {
      "cell_type": "code",
      "source": [],
      "metadata": {
        "id": "m3f3JVq2mAU_"
      },
      "execution_count": null,
      "outputs": []
    },
    {
      "cell_type": "code",
      "source": [
        "from sklearn.metrics import classification_report\n",
        "import numpy as np\n",
        "\n",
        "# 1. OneClassSVM on Train Set\n",
        "# svm_pred_train: +1 (normal), -1 (anomaly). Map to 0 (legit), 1 (fraud) for report.\n",
        "X_train = train_data.drop(['Time', 'Class'], axis=1)\n",
        "y_train = train_data['Class']\n",
        "svm_pred_train = svm.predict(X_train)\n",
        "svm_pred_train_labels = np.where(svm_pred_train == 1, 0, 1)\n",
        "\n",
        "print(\"\\n[OneClassSVM] Classification Report on Train Set:\")\n",
        "print(classification_report(y_train, svm_pred_train_labels, target_names=['Legitimate', 'Fraud']))\n",
        "\n",
        "# 2. OneClassSVM on Test1 Set\n",
        "y_test1 = test1_data['Class']\n",
        "svm_pred_test1_labels = np.where(test1_data['SVM_Flag'] == 1, 0, 1)\n",
        "\n",
        "print(\"\\n[OneClassSVM] Classification Report on Test1 Set:\")\n",
        "print(classification_report(y_test1, svm_pred_test1_labels, target_names=['Legitimate', 'Fraud']))\n",
        "\n",
        "# 3. Random Forest on Grey Area Transactions (from Test1)\n",
        "# y_grey and X_grey already defined\n",
        "y_grey_pred = rf.predict(X_grey)\n",
        "print(\"\\n[RandomForest] Classification Report on SVM-Flagged (Grey Area) Transactions (Test1):\")\n",
        "print(classification_report(y_grey, y_grey_pred, target_names=['Legitimate', 'Fraud']))\n",
        "\n",
        "# 4. Random Forest on Test2 Set\n",
        "# y_test2 and rf_pred_test2 already defined\n",
        "print(\"\\n[RandomForest] Classification Report on Test2 Set:\")\n",
        "print(classification_report(y_test2, rf_pred_test2, target_names=['Legitimate', 'Fraud']))\n"
      ],
      "metadata": {
        "colab": {
          "base_uri": "https://localhost:8080/"
        },
        "id": "cTEWPP40lnip",
        "outputId": "74c28fdd-1dd1-4933-acbc-3ae37b33f79b"
      },
      "execution_count": 3,
      "outputs": [
        {
          "output_type": "stream",
          "name": "stdout",
          "text": [
            "\n",
            "[OneClassSVM] Classification Report on Train Set:\n",
            "              precision    recall  f1-score   support\n",
            "\n",
            "  Legitimate       1.00      0.97      0.99    199008\n",
            "       Fraud       0.06      0.84      0.11       356\n",
            "\n",
            "    accuracy                           0.97    199364\n",
            "   macro avg       0.53      0.91      0.55    199364\n",
            "weighted avg       1.00      0.97      0.99    199364\n",
            "\n",
            "\n",
            "[OneClassSVM] Classification Report on Test1 Set:\n",
            "              precision    recall  f1-score   support\n",
            "\n",
            "  Legitimate       1.00      0.95      0.97     42644\n",
            "       Fraud       0.03      0.88      0.06        77\n",
            "\n",
            "    accuracy                           0.95     42721\n",
            "   macro avg       0.51      0.91      0.51     42721\n",
            "weighted avg       1.00      0.95      0.97     42721\n",
            "\n",
            "\n",
            "[RandomForest] Classification Report on SVM-Flagged (Grey Area) Transactions (Test1):\n",
            "              precision    recall  f1-score   support\n",
            "\n",
            "  Legitimate       1.00      1.00      1.00      2291\n",
            "       Fraud       1.00      1.00      1.00        68\n",
            "\n",
            "    accuracy                           1.00      2359\n",
            "   macro avg       1.00      1.00      1.00      2359\n",
            "weighted avg       1.00      1.00      1.00      2359\n",
            "\n",
            "\n",
            "[RandomForest] Classification Report on Test2 Set:\n",
            "              precision    recall  f1-score   support\n",
            "\n",
            "  Legitimate       1.00      1.00      1.00     42663\n",
            "       Fraud       0.88      0.85      0.86        59\n",
            "\n",
            "    accuracy                           1.00     42722\n",
            "   macro avg       0.94      0.92      0.93     42722\n",
            "weighted avg       1.00      1.00      1.00     42722\n",
            "\n"
          ]
        },
        {
          "output_type": "stream",
          "name": "stderr",
          "text": [
            "[Parallel(n_jobs=1)]: Done  49 tasks      | elapsed:    0.0s\n",
            "[Parallel(n_jobs=1)]: Done 199 tasks      | elapsed:    0.0s\n",
            "[Parallel(n_jobs=1)]: Done 200 out of 200 | elapsed:    0.0s finished\n"
          ]
        }
      ]
    },
    {
      "cell_type": "code",
      "source": [
        "from sklearn.metrics import classification_report, confusion_matrix\n",
        "\n",
        "labels = [0, 1]\n",
        "target_names = ['Legitimate', 'Fraud']\n",
        "\n",
        "# 1. OneClassSVM on Train Set\n",
        "print(\"\\n[OneClassSVM] Classification Report on Train Set:\")\n",
        "print(classification_report(y_train, svm_pred_train_labels, target_names=target_names))\n",
        "print(\"[OneClassSVM] Confusion Matrix on Train Set:\")\n",
        "print(confusion_matrix(y_train, svm_pred_train_labels, labels=labels))\n",
        "\n",
        "# 2. OneClassSVM on Test1 Set\n",
        "print(\"\\n[OneClassSVM] Classification Report on Test1 Set:\")\n",
        "print(classification_report(y_test1, svm_pred_test1_labels, target_names=target_names))\n",
        "print(\"[OneClassSVM] Confusion Matrix on Test1 Set:\")\n",
        "print(confusion_matrix(y_test1, svm_pred_test1_labels, labels=labels))\n",
        "\n",
        "# 3. Random Forest on SVM-Flagged (Grey Area) Transactions (Test1)\n",
        "print(\"\\n[RandomForest] Classification Report on SVM-Flagged (Grey Area) Transactions (Test1):\")\n",
        "print(classification_report(y_grey, y_grey_pred, target_names=target_names))\n",
        "print(\"[RandomForest] Confusion Matrix on SVM-Flagged (Grey Area) Transactions (Test1):\")\n",
        "print(confusion_matrix(y_grey, y_grey_pred, labels=labels))\n",
        "\n",
        "# 4. Random Forest on Test2 Set\n",
        "print(\"\\n[RandomForest] Classification Report on Test2 Set:\")\n",
        "print(classification_report(y_test2, rf_pred_test2, target_names=target_names))\n",
        "print(\"[RandomForest] Confusion Matrix on Test2 Set:\")\n",
        "print(confusion_matrix(y_test2, rf_pred_test2, labels=labels))\n"
      ],
      "metadata": {
        "colab": {
          "base_uri": "https://localhost:8080/"
        },
        "id": "opBYMUJanmIb",
        "outputId": "26aad231-0845-488b-892d-9f56a1cd8991"
      },
      "execution_count": 4,
      "outputs": [
        {
          "output_type": "stream",
          "name": "stdout",
          "text": [
            "\n",
            "[OneClassSVM] Classification Report on Train Set:\n",
            "              precision    recall  f1-score   support\n",
            "\n",
            "  Legitimate       1.00      0.97      0.99    199008\n",
            "       Fraud       0.06      0.84      0.11       356\n",
            "\n",
            "    accuracy                           0.97    199364\n",
            "   macro avg       0.53      0.91      0.55    199364\n",
            "weighted avg       1.00      0.97      0.99    199364\n",
            "\n",
            "[OneClassSVM] Confusion Matrix on Train Set:\n",
            "[[194017   4991]\n",
            " [    58    298]]\n",
            "\n",
            "[OneClassSVM] Classification Report on Test1 Set:\n",
            "              precision    recall  f1-score   support\n",
            "\n",
            "  Legitimate       1.00      0.95      0.97     42644\n",
            "       Fraud       0.03      0.88      0.06        77\n",
            "\n",
            "    accuracy                           0.95     42721\n",
            "   macro avg       0.51      0.91      0.51     42721\n",
            "weighted avg       1.00      0.95      0.97     42721\n",
            "\n",
            "[OneClassSVM] Confusion Matrix on Test1 Set:\n",
            "[[40353  2291]\n",
            " [    9    68]]\n",
            "\n",
            "[RandomForest] Classification Report on SVM-Flagged (Grey Area) Transactions (Test1):\n",
            "              precision    recall  f1-score   support\n",
            "\n",
            "  Legitimate       1.00      1.00      1.00      2291\n",
            "       Fraud       1.00      1.00      1.00        68\n",
            "\n",
            "    accuracy                           1.00      2359\n",
            "   macro avg       1.00      1.00      1.00      2359\n",
            "weighted avg       1.00      1.00      1.00      2359\n",
            "\n",
            "[RandomForest] Confusion Matrix on SVM-Flagged (Grey Area) Transactions (Test1):\n",
            "[[2291    0]\n",
            " [   0   68]]\n",
            "\n",
            "[RandomForest] Classification Report on Test2 Set:\n",
            "              precision    recall  f1-score   support\n",
            "\n",
            "  Legitimate       1.00      1.00      1.00     42663\n",
            "       Fraud       0.88      0.85      0.86        59\n",
            "\n",
            "    accuracy                           1.00     42722\n",
            "   macro avg       0.94      0.92      0.93     42722\n",
            "weighted avg       1.00      1.00      1.00     42722\n",
            "\n",
            "[RandomForest] Confusion Matrix on Test2 Set:\n",
            "[[42656     7]\n",
            " [    9    50]]\n"
          ]
        }
      ]
    },
    {
      "cell_type": "code",
      "source": [],
      "metadata": {
        "id": "uPAVF2w1nnC3"
      },
      "execution_count": null,
      "outputs": []
    }
  ]
}