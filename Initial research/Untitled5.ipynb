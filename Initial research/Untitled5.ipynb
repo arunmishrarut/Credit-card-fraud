{
  "nbformat": 4,
  "nbformat_minor": 0,
  "metadata": {
    "colab": {
      "provenance": [],
      "gpuType": "T4"
    },
    "kernelspec": {
      "name": "python3",
      "display_name": "Python 3"
    },
    "language_info": {
      "name": "python"
    },
    "accelerator": "GPU"
  },
  "cells": [
    {
      "cell_type": "code",
      "source": [
        "!pip install -q pytorch-tabnet\n"
      ],
      "metadata": {
        "colab": {
          "base_uri": "https://localhost:8080/"
        },
        "id": "qa_DMjgIAPmh",
        "outputId": "82a66fbe-ae0d-4657-e082-f4f130864bf2"
      },
      "execution_count": 1,
      "outputs": [
        {
          "output_type": "stream",
          "name": "stdout",
          "text": [
            "\u001b[2K   \u001b[90m━━━━━━━━━━━━━━━━━━━━━━━━━━━━━━━━━━━━━━━━\u001b[0m \u001b[32m44.5/44.5 kB\u001b[0m \u001b[31m2.0 MB/s\u001b[0m eta \u001b[36m0:00:00\u001b[0m\n",
            "\u001b[2K   \u001b[90m━━━━━━━━━━━━━━━━━━━━━━━━━━━━━━━━━━━━━━━━\u001b[0m \u001b[32m363.4/363.4 MB\u001b[0m \u001b[31m3.7 MB/s\u001b[0m eta \u001b[36m0:00:00\u001b[0m\n",
            "\u001b[2K   \u001b[90m━━━━━━━━━━━━━━━━━━━━━━━━━━━━━━━━━━━━━━━━\u001b[0m \u001b[32m13.8/13.8 MB\u001b[0m \u001b[31m119.3 MB/s\u001b[0m eta \u001b[36m0:00:00\u001b[0m\n",
            "\u001b[2K   \u001b[90m━━━━━━━━━━━━━━━━━━━━━━━━━━━━━━━━━━━━━━━━\u001b[0m \u001b[32m24.6/24.6 MB\u001b[0m \u001b[31m96.9 MB/s\u001b[0m eta \u001b[36m0:00:00\u001b[0m\n",
            "\u001b[2K   \u001b[90m━━━━━━━━━━━━━━━━━━━━━━━━━━━━━━━━━━━━━━━━\u001b[0m \u001b[32m883.7/883.7 kB\u001b[0m \u001b[31m64.1 MB/s\u001b[0m eta \u001b[36m0:00:00\u001b[0m\n",
            "\u001b[2K   \u001b[90m━━━━━━━━━━━━━━━━━━━━━━━━━━━━━━━━━━━━━━━━\u001b[0m \u001b[32m664.8/664.8 MB\u001b[0m \u001b[31m2.0 MB/s\u001b[0m eta \u001b[36m0:00:00\u001b[0m\n",
            "\u001b[2K   \u001b[90m━━━━━━━━━━━━━━━━━━━━━━━━━━━━━━━━━━━━━━━━\u001b[0m \u001b[32m211.5/211.5 MB\u001b[0m \u001b[31m5.5 MB/s\u001b[0m eta \u001b[36m0:00:00\u001b[0m\n",
            "\u001b[2K   \u001b[90m━━━━━━━━━━━━━━━━━━━━━━━━━━━━━━━━━━━━━━━━\u001b[0m \u001b[32m56.3/56.3 MB\u001b[0m \u001b[31m23.5 MB/s\u001b[0m eta \u001b[36m0:00:00\u001b[0m\n",
            "\u001b[2K   \u001b[90m━━━━━━━━━━━━━━━━━━━━━━━━━━━━━━━━━━━━━━━━\u001b[0m \u001b[32m127.9/127.9 MB\u001b[0m \u001b[31m7.3 MB/s\u001b[0m eta \u001b[36m0:00:00\u001b[0m\n",
            "\u001b[2K   \u001b[90m━━━━━━━━━━━━━━━━━━━━━━━━━━━━━━━━━━━━━━━━\u001b[0m \u001b[32m207.5/207.5 MB\u001b[0m \u001b[31m5.1 MB/s\u001b[0m eta \u001b[36m0:00:00\u001b[0m\n",
            "\u001b[2K   \u001b[90m━━━━━━━━━━━━━━━━━━━━━━━━━━━━━━━━━━━━━━━━\u001b[0m \u001b[32m21.1/21.1 MB\u001b[0m \u001b[31m66.6 MB/s\u001b[0m eta \u001b[36m0:00:00\u001b[0m\n",
            "\u001b[?25h"
          ]
        }
      ]
    },
    {
      "cell_type": "code",
      "source": [
        "import torch\n",
        "# Check GPU availability\n",
        "device = torch.device(\"cuda\" if torch.cuda.is_available() else \"cpu\")\n",
        "print(f\"Using device: {device}\")\n"
      ],
      "metadata": {
        "colab": {
          "base_uri": "https://localhost:8080/"
        },
        "id": "F3r9PNG_Imw7",
        "outputId": "676877cd-535b-4a36-bce1-44f129b6a545"
      },
      "execution_count": 2,
      "outputs": [
        {
          "output_type": "stream",
          "name": "stdout",
          "text": [
            "Using device: cuda\n"
          ]
        }
      ]
    },
    {
      "cell_type": "code",
      "execution_count": 3,
      "metadata": {
        "colab": {
          "base_uri": "https://localhost:8080/"
        },
        "id": "pMoQM2ju_IIo",
        "outputId": "4064e689-cc81-4db3-9cde-fc1b8ae9eae6"
      },
      "outputs": [
        {
          "output_type": "stream",
          "name": "stdout",
          "text": [
            "Train shape: (227845, 29) (227845,)\n",
            "Test shape: (56962, 29) (56962,)\n"
          ]
        }
      ],
      "source": [
        "import pandas as pd\n",
        "from pytorch_tabnet.tab_model import TabNetClassifier\n",
        "from sklearn.model_selection import train_test_split\n",
        "from sklearn.metrics import roc_auc_score\n",
        "\n",
        "\n",
        "# Load your data (replace 'your_data.csv' with your actual filename)\n",
        "df = pd.read_csv('creditcard.csv')\n",
        "\n",
        "# Define feature columns (exclude 'Class', which is your label)\n",
        "feature_cols = [col for col in df.columns if col not in ['Time','Class']]\n",
        "\n",
        "# Define X and y\n",
        "X = df[feature_cols].values   # Features: all columns except 'Class'\n",
        "y = df['Class'].values        # Target: 'Class' column\n",
        "\n",
        "# Stratified train/test split\n",
        "X_train, X_test, y_train, y_test = train_test_split(\n",
        "    X, y, test_size=0.2, stratify=y, random_state=42\n",
        ")\n",
        "\n",
        "print(\"Train shape:\", X_train.shape, y_train.shape)\n",
        "print(\"Test shape:\", X_test.shape, y_test.shape)\n",
        "\n",
        "\n",
        "clf = TabNetClassifier(\n",
        "    device_name=\"cuda\"  # 'cuda' for GPU, 'cpu' for CPU\n",
        ")\n",
        "\n"
      ]
    },
    {
      "cell_type": "code",
      "source": [
        "# Fit TabNet (will use GPU if available) this parameter is speciality of\n",
        "#pytorch_tabnet that you do not need to move model and data to GPU manually,\n",
        "#just set the below parameter\n",
        "clf = TabNetClassifier(\n",
        "    device_name=\"cuda\"  # 'cuda' for GPU, 'cpu' for CPU\n",
        ")\n",
        "\n",
        "# Fit TabNet (will use GPU if available) this parameter is speciality of\n",
        "#pytorch_tabnet that you do not need to move model and data to GPU manually,\n",
        "#just set the below parameter\n",
        "\n",
        "# Fit TabNet\n",
        "clf = TabNetClassifier()\n",
        "clf.fit(\n",
        "    X_train, y_train,\n",
        "    eval_set=[(X_test, y_test)],\n",
        "    eval_metric=['auc'],\n",
        "    max_epochs=100,\n",
        "    patience=10,\n",
        "    batch_size=1024,\n",
        "    virtual_batch_size=128,\n",
        "    num_workers=0,\n",
        "    drop_last=False\n",
        ")\n",
        "\n",
        "# Predict and evaluate\n",
        "y_pred = clf.predict_proba(X_test)[:, 1]\n",
        "auc = roc_auc_score(y_test, y_pred)\n",
        "print(f\"Test ROC-AUC: {auc:.4f}\")\n"
      ],
      "metadata": {
        "colab": {
          "base_uri": "https://localhost:8080/"
        },
        "id": "iV3mTAXAAXQ2",
        "outputId": "2ce33433-ecdc-4bda-971b-9d791a59894b"
      },
      "execution_count": 4,
      "outputs": [
        {
          "output_type": "stream",
          "name": "stderr",
          "text": [
            "/usr/local/lib/python3.11/dist-packages/pytorch_tabnet/abstract_model.py:82: UserWarning: Device used : cuda\n",
            "  warnings.warn(f\"Device used : {self.device}\")\n"
          ]
        },
        {
          "output_type": "stream",
          "name": "stdout",
          "text": [
            "epoch 0  | loss: 0.01982 | val_0_auc: 0.88783 |  0:00:12s\n",
            "epoch 1  | loss: 0.0059  | val_0_auc: 0.94015 |  0:00:23s\n",
            "epoch 2  | loss: 0.00452 | val_0_auc: 0.95934 |  0:00:34s\n",
            "epoch 3  | loss: 0.0041  | val_0_auc: 0.95602 |  0:00:44s\n",
            "epoch 4  | loss: 0.00417 | val_0_auc: 0.96874 |  0:00:56s\n",
            "epoch 5  | loss: 0.00406 | val_0_auc: 0.96563 |  0:01:07s\n",
            "epoch 6  | loss: 0.00384 | val_0_auc: 0.96936 |  0:01:17s\n",
            "epoch 7  | loss: 0.00364 | val_0_auc: 0.96621 |  0:01:28s\n",
            "epoch 8  | loss: 0.00366 | val_0_auc: 0.97046 |  0:01:38s\n",
            "epoch 9  | loss: 0.00354 | val_0_auc: 0.96652 |  0:01:49s\n",
            "epoch 10 | loss: 0.00357 | val_0_auc: 0.96917 |  0:01:59s\n",
            "epoch 11 | loss: 0.00343 | val_0_auc: 0.97074 |  0:02:10s\n",
            "epoch 12 | loss: 0.00329 | val_0_auc: 0.96677 |  0:02:21s\n",
            "epoch 13 | loss: 0.00368 | val_0_auc: 0.96258 |  0:02:31s\n",
            "epoch 14 | loss: 0.00383 | val_0_auc: 0.95895 |  0:02:42s\n",
            "epoch 15 | loss: 0.00369 | val_0_auc: 0.97056 |  0:02:53s\n",
            "epoch 16 | loss: 0.00355 | val_0_auc: 0.97006 |  0:03:03s\n",
            "epoch 17 | loss: 0.0037  | val_0_auc: 0.95035 |  0:03:15s\n",
            "epoch 18 | loss: 0.00362 | val_0_auc: 0.96403 |  0:03:27s\n",
            "epoch 19 | loss: 0.00335 | val_0_auc: 0.95913 |  0:03:38s\n",
            "epoch 20 | loss: 0.00327 | val_0_auc: 0.95885 |  0:03:50s\n",
            "epoch 21 | loss: 0.00337 | val_0_auc: 0.96055 |  0:04:01s\n",
            "\n",
            "Early stopping occurred at epoch 21 with best_epoch = 11 and best_val_0_auc = 0.97074\n"
          ]
        },
        {
          "output_type": "stream",
          "name": "stderr",
          "text": [
            "/usr/local/lib/python3.11/dist-packages/pytorch_tabnet/callbacks.py:172: UserWarning: Best weights from best epoch are automatically used!\n",
            "  warnings.warn(wrn_msg)\n"
          ]
        },
        {
          "output_type": "stream",
          "name": "stdout",
          "text": [
            "Test ROC-AUC: 0.9707\n"
          ]
        }
      ]
    },
    {
      "cell_type": "code",
      "source": [
        "# Predict and evaluate\n",
        "y_pred_proba = clf.predict_proba(X_test)[:, 1]\n",
        "auc = roc_auc_score(y_test, y_pred)\n",
        "print(f\"Test ROC-AUC: {auc:.4f}\")\n"
      ],
      "metadata": {
        "colab": {
          "base_uri": "https://localhost:8080/"
        },
        "id": "IWc5iJPcCUso",
        "outputId": "9eb56999-1865-425e-cdfa-ab2c3a094e1d"
      },
      "execution_count": 7,
      "outputs": [
        {
          "output_type": "stream",
          "name": "stdout",
          "text": [
            "Test ROC-AUC: 0.9707\n"
          ]
        }
      ]
    },
    {
      "cell_type": "code",
      "source": [
        "from sklearn.metrics import (\n",
        "    precision_score, recall_score, f1_score,\n",
        "    confusion_matrix, precision_recall_curve,\n",
        "    average_precision_score, classification_report\n",
        ")\n",
        "import matplotlib.pyplot as plt\n",
        "import numpy as np\n",
        "\n",
        "# --- Assuming you already have these from earlier ---\n",
        "# y_test: true labels for your test set\n",
        "# y_pred_proba: predicted probabilities for class 1 (fraud) from TabNet\n",
        "\n",
        "# Choose a threshold for classification\n",
        "threshold = 0.5\n",
        "y_pred = (y_pred_proba >= threshold).astype(int)\n",
        "\n",
        "# Compute metrics\n",
        "precision = precision_score(y_test, y_pred)\n",
        "recall = recall_score(y_test, y_pred)\n",
        "f1 = f1_score(y_test, y_pred)\n",
        "pr_auc = average_precision_score(y_test, y_pred_proba)\n",
        "conf_mat = confusion_matrix(y_test, y_pred)\n",
        "\n",
        "print(f\"Threshold: {threshold}\")\n",
        "print(f\"Precision: {precision:.4f}\")\n",
        "print(f\"Recall: {recall:.4f}\")\n",
        "print(f\"F1-score: {f1:.4f}\")\n",
        "print(f\"Precision-Recall AUC: {pr_auc:.4f}\")\n",
        "print(\"Confusion Matrix:\")\n",
        "print(conf_mat)\n",
        "print(\"\\nClassification Report:\")\n",
        "print(classification_report(y_test, y_pred, digits=4))\n",
        "\n",
        "# Plot Precision-Recall Curve\n",
        "precisions, recalls, thresholds = precision_recall_curve(y_test, y_pred_proba)\n",
        "plt.figure(figsize=(6,4))\n",
        "plt.plot(recalls, precisions, marker='.')\n",
        "plt.xlabel('Recall')\n",
        "plt.ylabel('Precision')\n",
        "plt.title('Precision-Recall Curve')\n",
        "plt.grid(True)\n",
        "plt.show()\n",
        "\n",
        "# (Optional) See how metrics change with different thresholds\n",
        "for thresh in [0.1, 0.2, 0.3, 0.5, 0.7]:\n",
        "    y_pred_thresh = (y_pred_proba >= thresh).astype(int)\n",
        "    print(f\"\\nThreshold: {thresh}\")\n",
        "    print(confusion_matrix(y_test, y_pred_thresh))\n",
        "    print(f\"Precision: {precision_score(y_test, y_pred_thresh):.4f}\")\n",
        "    print(f\"Recall: {recall_score(y_test, y_pred_thresh):.4f}\")\n",
        "    print(f\"F1-score: {f1_score(y_test, y_pred_thresh):.4f}\")\n"
      ],
      "metadata": {
        "colab": {
          "base_uri": "https://localhost:8080/",
          "height": 1000
        },
        "id": "EM49fFzUFwbC",
        "outputId": "48f745e6-0b10-4b8e-fb46-a35651e5aa6e"
      },
      "execution_count": 8,
      "outputs": [
        {
          "output_type": "stream",
          "name": "stdout",
          "text": [
            "Threshold: 0.5\n",
            "Precision: 0.8085\n",
            "Recall: 0.7755\n",
            "F1-score: 0.7917\n",
            "Precision-Recall AUC: 0.7462\n",
            "Confusion Matrix:\n",
            "[[56846    18]\n",
            " [   22    76]]\n",
            "\n",
            "Classification Report:\n",
            "              precision    recall  f1-score   support\n",
            "\n",
            "           0     0.9996    0.9997    0.9996     56864\n",
            "           1     0.8085    0.7755    0.7917        98\n",
            "\n",
            "    accuracy                         0.9993     56962\n",
            "   macro avg     0.9041    0.8876    0.8957     56962\n",
            "weighted avg     0.9993    0.9993    0.9993     56962\n",
            "\n"
          ]
        },
        {
          "output_type": "display_data",
          "data": {
            "text/plain": [
              "<Figure size 600x400 with 1 Axes>"
            ],
            "image/png": "[encoded data removed]"
          },
          "metadata": {}
        },
        {
          "output_type": "stream",
          "name": "stdout",
          "text": [
            "\n",
            "Threshold: 0.1\n",
            "[[56802    62]\n",
            " [   16    82]]\n",
            "Precision: 0.5694\n",
            "Recall: 0.8367\n",
            "F1-score: 0.6777\n",
            "\n",
            "Threshold: 0.2\n",
            "[[56830    34]\n",
            " [   17    81]]\n",
            "Precision: 0.7043\n",
            "Recall: 0.8265\n",
            "F1-score: 0.7606\n",
            "\n",
            "Threshold: 0.3\n",
            "[[56840    24]\n",
            " [   20    78]]\n",
            "Precision: 0.7647\n",
            "Recall: 0.7959\n",
            "F1-score: 0.7800\n",
            "\n",
            "Threshold: 0.5\n",
            "[[56846    18]\n",
            " [   22    76]]\n",
            "Precision: 0.8085\n",
            "Recall: 0.7755\n",
            "F1-score: 0.7917\n",
            "\n",
            "Threshold: 0.7\n",
            "[[56854    10]\n",
            " [   39    59]]\n",
            "Precision: 0.8551\n",
            "Recall: 0.6020\n",
            "F1-score: 0.7066\n"
          ]
        }
      ]
    },
    {
      "cell_type": "code",
      "source": [],
      "metadata": {
        "id": "X1ax9uDBMKrZ"
      },
      "execution_count": null,
      "outputs": []
    }
  ]
}