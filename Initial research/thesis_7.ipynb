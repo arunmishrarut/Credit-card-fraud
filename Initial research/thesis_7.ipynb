{
 "cells": [
  {
   "cell_type": "code",
   "execution_count": 5,
   "id": "bc7703ef",
   "metadata": {},
   "outputs": [],
   "source": [
    "#EDA of dataset\n",
    "# Load data\n",
    "import numpy as np\n",
    "import pandas as pd\n",
    "import numpy as np\n",
    "import pandas as pd\n",
    "from sklearn.model_selection import train_test_split\n",
    "from sklearn.svm import OneClassSVM\n",
    "from sklearn.ensemble import RandomForestClassifier\n",
    "data1 = pd.read_csv('data1.csv')\n",
    "\n",
    "\n"
   ]
  },
  {
   "cell_type": "code",
   "execution_count": 6,
   "id": "c0849400",
   "metadata": {},
   "outputs": [
    {
     "name": "stdout",
     "output_type": "stream",
     "text": [
      "0\n",
      "492\n"
     ]
    }
   ],
   "source": [
    "print(data1.isnull().sum().sum())  # Total number of NaNs\n",
    "print(data1['Class'].sum())"
   ]
  },
  {
   "cell_type": "code",
   "execution_count": 7,
   "id": "900c1296",
   "metadata": {},
   "outputs": [
    {
     "name": "stdout",
     "output_type": "stream",
     "text": [
      "0 0 0\n",
      "344 74 74\n"
     ]
    }
   ],
   "source": [
    "\n",
    "\n",
    "# Define target variable\n",
    "y = data1['Class']\n",
    "\n",
    "# Split 70% train, 30% temp (stratified)\n",
    "train_data, temp_data = train_test_split(data1, test_size=0.3, random_state=43, stratify=y)\n",
    "\n",
    "# Split temp into 15%/15% (stratified)\n",
    "test1_data, test2_data = train_test_split(temp_data, test_size=0.5, random_state=43, stratify=temp_data['Class'])\n",
    "\n",
    "# Check for missing values and class distribution\n",
    "print(train_data.isnull().sum().sum(), test1_data.isnull().sum().sum(), test2_data.isnull().sum().sum())\n",
    "print(train_data['Class'].sum(), test1_data['Class'].sum(), test2_data['Class'].sum())\n"
   ]
  },
  {
   "cell_type": "code",
   "execution_count": null,
   "id": "c1a1fec7",
   "metadata": {},
   "outputs": [
    {
     "name": "stdout",
     "output_type": "stream",
     "text": [
      "[LibSVM]"
     ]
    }
   ],
   "source": [
    "# Step 2: Prepare SVM training data (legitimate transactions only from train_data)\n",
    "X_train_nonfraud = train_data[train_data['Class'] == 0].drop(['Class'], axis=1)\n",
    "\n",
    "# Train OneClassSVM (including 'Time' as a predictor)\n",
    "svm = OneClassSVM(gamma='auto', nu=0.01, verbose=1)\n",
    "svm.fit(X_train_nonfraud)\n",
    "\n",
    "# Step 3: Detect grey area transactions in test1_data\n",
    "X_test1 = test1_data.drop(['Class'], axis=1)  # Keep 'Time'\n",
    "svm_pred_test1 = svm.predict(X_test1)  # -1 = anomaly, 1 = normal\n",
    "\n",
    "# Add predictions to test1_data and filter grey area\n",
    "test1_data = test1_data.copy()\n",
    "test1_data['SVM_Flag'] = svm_pred_test1\n",
    "grey_area = test1_data[test1_data['SVM_Flag'] == -1]\n",
    "print(len(grey_area))\n",
    "\n",
    "\n"
   ]
  },
  {
   "cell_type": "code",
   "execution_count": null,
   "id": "c0d572bd",
   "metadata": {},
   "outputs": [],
   "source": [
    "# Step 4: Prepare RF training data (use original labels)\n",
    "X_grey = grey_area.drop(['Class', 'SVM_Flag'], axis=1)  # Keep 'Time'\n",
    "y_grey = grey_area['Class']\n",
    "\n",
    "# Step 5: Train Random Forest\n",
    "rf = RandomForestClassifier(\n",
    "    n_estimators=200,\n",
    "    max_depth=20,\n",
    "    class_weight='balanced',\n",
    "    random_state=42,\n",
    "    verbose=1\n",
    ")\n",
    "rf.fit(X_grey, y_grey)\n",
    "\n",
    "# Step 6: Predict on test2_data and evaluate\n",
    "X_test2 = test2_data.drop(['Class'], axis=1)  # Keep 'Time'\n",
    "y_test2 = test2_data['Class']\n",
    "rf_pred_test2 = rf.predict_proba(X_test2)[:, 1]\n"
   ]
  },
  {
   "cell_type": "code",
   "execution_count": null,
   "id": "3f7ee98e",
   "metadata": {},
   "outputs": [],
   "source": [
    "rf_pred_test2 = (rf_pred_test2 > 0.5).astype(int)"
   ]
  },
  {
   "cell_type": "code",
   "execution_count": null,
   "id": "2ec3405a",
   "metadata": {},
   "outputs": [],
   "source": [
    "from sklearn.metrics import classification_report, confusion_matrix\n",
    "\n",
    "\n",
    "# 1. OneClassSVM on Train Set\n",
    "# svm_pred_train: +1 (normal), -1 (anomaly). Map to 0 (legit), 1 (fraud) for report.\n",
    "X_train = train_data.drop(['Class'], axis=1)\n",
    "y_train = train_data['Class']\n",
    "X_train.isnull().sum().sum(), y_train.isnull().sum().sum()\n"
   ]
  },
  {
   "cell_type": "code",
   "execution_count": null,
   "id": "38f59af6",
   "metadata": {},
   "outputs": [],
   "source": [
    "labels = [0, 1]\n",
    "target_names = ['Legitimate', 'Fraud']\n",
    "\n",
    "svm_pred_train = svm.predict(X_train)\n",
    "svm_pred_train_labels = np.where(svm_pred_train == 1, 0, 1)\n",
    "\n",
    "\n",
    "# 1. OneClassSVM on Train Set\n",
    "print(\"\\n[OneClassSVM] Classification Report on Train Set:\")\n",
    "print(classification_report(y_train, svm_pred_train_labels, target_names=target_names))\n",
    "print(\"[OneClassSVM] Confusion Matrix on Train Set:\")\n",
    "print(confusion_matrix(y_train, svm_pred_train_labels, labels=labels))\n",
    "\n",
    "\n",
    "# 2. OneClassSVM on Test1 Set\n",
    "y_test1 = test1_data['Class']\n",
    "svm_pred_test1_labels = np.where(test1_data['SVM_Flag'] == 1, 0, 1)\n",
    "print(\"\\n[OneClassSVM] Classification Report on Test1 Set:\")\n",
    "print(classification_report(y_test1, svm_pred_test1_labels, target_names=target_names))\n",
    "print(\"[OneClassSVM] Confusion Matrix on Test1 Set:\")\n",
    "print(confusion_matrix(y_test1, svm_pred_test1_labels, labels=labels))\n",
    "\n",
    "\n",
    "# 3. Random Forest on Grey Area Transactions (from Test1)\n",
    "# y_grey and X_grey already defined\n",
    "y_grey_pred = rf.predict(X_grey)\n",
    "print(\"\\n[RandomForest] Classification Report on SVM-Flagged (Grey Area) Transactions (Test1):\")\n",
    "print(classification_report(y_grey, y_grey_pred, target_names=target_names))\n",
    "print(\"[RandomForest] Confusion Matrix on SVM-Flagged (Grey Area) Transactions (Test1):\")\n",
    "print(confusion_matrix(y_grey, y_grey_pred, labels=labels))\n",
    "\n"
   ]
  },
  {
   "cell_type": "code",
   "execution_count": null,
   "id": "4c311a8b",
   "metadata": {},
   "outputs": [],
   "source": [
    "\n",
    "\n",
    "# 4. Random Forest on Test2 Set\n",
    "# y_test2 and rf_pred_test2 already defined\n",
    "print(\"\\n[RandomForest] Classification Report on Test2 Set:\")\n",
    "print(classification_report(y_test2, rf_pred_test2, target_names=target_names))\n",
    "print(\"[RandomForest] Confusion Matrix on Test2 Set:\")\n",
    "print(confusion_matrix(y_test2, rf_pred_test2, labels=labels))"
   ]
  },
  {
   "cell_type": "code",
   "execution_count": null,
   "id": "e7df2d31",
   "metadata": {},
   "outputs": [],
   "source": [
    "\n",
    "# 4. Random Forest on Test2 Set\n",
    "# y_test2 and rf_pred_test2 already defined\n",
    "print(\"\\n[RandomForest] Classification Report on Test2 Set:\")\n",
    "print(classification_report(y_test2, rf_pred_test2, target_names=target_names))\n",
    "print(\"[RandomForest] Confusion Matrix on Test2 Set:\")\n",
    "print(confusion_matrix(y_test2, rf_pred_test2, labels=labels))"
   ]
  },
  {
   "cell_type": "code",
   "execution_count": null,
   "id": "d40c8b2f",
   "metadata": {},
   "outputs": [],
   "source": []
  },
  {
   "cell_type": "code",
   "execution_count": null,
   "id": "43012681",
   "metadata": {},
   "outputs": [],
   "source": []
  },
  {
   "cell_type": "code",
   "execution_count": null,
   "id": "34b43be9",
   "metadata": {},
   "outputs": [],
   "source": []
  },
  {
   "cell_type": "code",
   "execution_count": null,
   "id": "6e0930c5",
   "metadata": {},
   "outputs": [],
   "source": [
    "import matplotlib.pyplot as plt\n",
    "import seaborn as sns\n",
    "\n",
    "# Get predicted probabilities for the fraud class (class 1)\n",
    "y_proba = rf.predict_proba(X_test2)[:, 1]\n",
    "\n",
    "plt.figure(figsize=(10, 6))\n",
    "sns.kdeplot(y_proba, bw_adjust=0.5, fill=True, color='royalblue', label='Predicted probability density')\n",
    "\n",
    "# Mark the default threshold\n",
    "plt.axvline(0.15, color='red', linestyle='--', label='Default threshold (0.5)')\n",
    "# Optionally, mark your candidate threshold\n",
    "plt.axvline(0.3, color='green', linestyle='--', label='Candidate threshold (0.3)')\n",
    "\n",
    "plt.title('Random Forest Fraud Probability Distribution (Test2 Set)')\n",
    "plt.xlabel('Predicted Probability of Fraud')\n",
    "plt.ylabel('Density')\n",
    "plt.legend()\n",
    "plt.show()\n",
    "\n"
   ]
  },
  {
   "cell_type": "code",
   "execution_count": null,
   "id": "f1a10fae",
   "metadata": {},
   "outputs": [],
   "source": [
    "plt.figure(figsize=(10, 6))\n",
    "sns.kdeplot(y_proba[y_test2 == 0], label='Legitimate', fill=True)\n",
    "sns.kdeplot(y_proba[y_test2 == 1], label='Fraud', fill=True, color='orange')\n",
    "plt.axvline(0.15, color='red', linestyle='--', label='Default threshold (0.5)')\n",
    "plt.title('Probability Distribution by True Class')\n",
    "plt.xlabel('Predicted Probability of Fraud')\n",
    "plt.ylabel('Density')\n",
    "plt.legend()\n",
    "plt.show()\n"
   ]
  },
  {
   "cell_type": "code",
   "execution_count": null,
   "id": "2abfaa47",
   "metadata": {},
   "outputs": [],
   "source": [
    "plt.figure(figsize=(10, 6))\n",
    "sns.kdeplot(y_proba[y_test2 == 0], label='Legitimate', fill=True)\n",
    "sns.kdeplot(y_proba[y_test2 == 1], label='Fraud', fill=True, color='orange')\n",
    "plt.axvline(0.15, color='red', linestyle='--', label='Default threshold (0.5)')\n",
    "plt.title('Probability Distribution by True Class')\n",
    "plt.xlabel('Predicted Probability of Fraud')\n",
    "plt.ylabel('Density')\n",
    "plt.ylim(0, 5)  # Set y-axis scale from 0 to 10\n",
    "plt.legend()\n",
    "plt.show()\n",
    "\n"
   ]
  },
  {
   "cell_type": "code",
   "execution_count": null,
   "id": "f93fdb96",
   "metadata": {},
   "outputs": [],
   "source": [
    "# Your predictions at default threshold (0.5)\n",
    "rf_pred_test2 = (y_proba > 0.15).astype(int)\n",
    "# Find indices of false negatives\n",
    "false_negatives = (y_test2 == 1) & (rf_pred_test2 == 0)\n",
    "\n",
    "# Probabilities assigned to these false negatives\n",
    "fn_probs = y_proba[false_negatives]\n",
    "import matplotlib.pyplot as plt\n",
    "import seaborn as sns\n",
    "\n",
    "plt.figure(figsize=(10, 6))\n",
    "\n",
    "# KDE for legitimate\n",
    "sns.kdeplot(y_proba[y_test2 == 0], label='Legitimate', fill=True)\n",
    "# KDE for fraud\n",
    "sns.kdeplot(y_proba[y_test2 == 1], label='Fraud', fill=True, color='orange')\n",
    "# Plot false negatives as rug or scatter\n",
    "plt.scatter(fn_probs, [0]*len(fn_probs), color='red', marker='x', label='False Negatives (Fraud Missed)')\n",
    "\n",
    "# Threshold lines\n",
    "plt.axvline(0.15, color='red', linestyle='--', label='Default threshold (0.15)')\n",
    "\n",
    "plt.title('Probability Distribution by True Class\\nwith False Negatives Highlighted')\n",
    "plt.xlabel('Predicted Probability of Fraud')\n",
    "plt.ylabel('Density')\n",
    "plt.ylim(0, 5)\n",
    "plt.legend()\n",
    "plt.show()\n"
   ]
  },
  {
   "cell_type": "code",
   "execution_count": null,
   "id": "a9a47170",
   "metadata": {},
   "outputs": [],
   "source": [
    "len(false_negatives)"
   ]
  },
  {
   "cell_type": "code",
   "execution_count": null,
   "id": "fb4b20d1",
   "metadata": {},
   "outputs": [],
   "source": []
  }
 ],
 "metadata": {
  "kernelspec": {
   "display_name": "Python 3 (ipykernel)",
   "language": "python",
   "name": "python3"
  },
  "language_info": {
   "codemirror_mode": {
    "name": "ipython",
    "version": 3
   },
   "file_extension": ".py",
   "mimetype": "text/x-python",
   "name": "python",
   "nbconvert_exporter": "python",
   "pygments_lexer": "ipython3",
   "version": "3.11.11"
  }
 },
 "nbformat": 4,
 "nbformat_minor": 5
}
