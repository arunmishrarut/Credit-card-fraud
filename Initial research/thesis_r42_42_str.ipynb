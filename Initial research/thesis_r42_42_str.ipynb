{
  "nbformat": 4,
  "nbformat_minor": 0,
  "metadata": {
    "colab": {
      "provenance": []
    },
    "kernelspec": {
      "name": "python3",
      "display_name": "Python 3"
    },
    "language_info": {
      "name": "python"
    }
  },
  "cells": [
    {
      "cell_type": "code",
      "source": [
        "#EDA of dataset\n",
        "# Load data\n",
        "import numpy as np\n",
        "import pandas as pd\n",
        "data1 = pd.read_csv('data1.csv')\n",
        "\n",
        "print(data1.isnull().sum().sum())  # Total number of NaNs"
      ],
      "metadata": {
        "id": "4CQ3fkWVNTFD",
        "colab": {
          "base_uri": "https://localhost:8080/"
        },
        "outputId": "3d68c0f2-0799-4e7c-d020-0d635b2f94a9"
      },
      "execution_count": 1,
      "outputs": [
        {
          "output_type": "stream",
          "name": "stdout",
          "text": [
            "0\n"
          ]
        }
      ]
    },
    {
      "cell_type": "code",
      "source": [
        "import numpy as np\n",
        "import pandas as pd\n",
        "\n",
        "from sklearn.metrics import accuracy_score, classification_report\n",
        "from sklearn.model_selection import train_test_split\n",
        "from sklearn.svm import OneClassSVM\n",
        "from sklearn.ensemble import RandomForestClassifier\n",
        "\n",
        "\n",
        "#seed_value changed\n",
        "# Step 1: Split dataset into 70%, 15%, 15% without stratification\n",
        "train_data, temp_data = train_test_split(data1, test_size=0.3, random_state=42, stratify = data1['Class'])\n",
        "test1_data, test2_data = train_test_split(temp_data, test_size=0.5, random_state=42, stratify = temp_data['Class'])\n",
        "\n",
        "# Step 2: Prepare SVM training data (legitimate transactions only from train_data)\n",
        "X_train_nonfraud = train_data[train_data['Class'] == 0].drop(['Time', 'Class'], axis=1)\n"
      ],
      "metadata": {
        "id": "pDeRbF4EWB-U"
      },
      "execution_count": 3,
      "outputs": []
    },
    {
      "cell_type": "code",
      "source": [
        "train_data.isnull().sum().sum(),test1_data.isnull().sum().sum(),test2_data.isnull().sum().sum()\n"
      ],
      "metadata": {
        "colab": {
          "base_uri": "https://localhost:8080/"
        },
        "id": "RrH-0IBQWEKM",
        "outputId": "c991e05d-b285-496c-bf6d-ffee27c61ca9"
      },
      "execution_count": 4,
      "outputs": [
        {
          "output_type": "execute_result",
          "data": {
            "text/plain": [
              "(np.int64(0), np.int64(0), np.int64(0))"
            ]
          },
          "metadata": {},
          "execution_count": 4
        }
      ]
    },
    {
      "cell_type": "code",
      "execution_count": 5,
      "metadata": {
        "colab": {
          "base_uri": "https://localhost:8080/"
        },
        "id": "M5hmYElyWENv",
        "outputId": "835f3533-28ae-4291-ec47-7122c5b3e144"
      },
      "outputs": [
        {
          "output_type": "stream",
          "name": "stdout",
          "text": [
            "[LibSVM]"
          ]
        },
        {
          "output_type": "stream",
          "name": "stderr",
          "text": [
            "[Parallel(n_jobs=1)]: Done  49 tasks      | elapsed:    0.2s\n",
            "[Parallel(n_jobs=1)]: Done 199 tasks      | elapsed:    0.9s\n",
            "[Parallel(n_jobs=1)]: Done 200 out of 200 | elapsed:    0.9s finished\n",
            "[Parallel(n_jobs=1)]: Done  49 tasks      | elapsed:    0.1s\n",
            "[Parallel(n_jobs=1)]: Done 199 tasks      | elapsed:    0.2s\n",
            "[Parallel(n_jobs=1)]: Done 200 out of 200 | elapsed:    0.2s finished\n"
          ]
        }
      ],
      "source": [
        "\n",
        "# Train OneClassSVM\n",
        "svm = OneClassSVM(gamma='auto', nu=0.01, verbose=1)\n",
        "svm.fit(X_train_nonfraud)\n",
        "\n",
        "# Step 3: Detect grey area transactions in test1_data\n",
        "X_test1 = test1_data.drop(['Time', 'Class'], axis=1)\n",
        "svm_pred_test1 = svm.predict(X_test1)  # -1 = anomaly, 1 = normal\n",
        "\n",
        "# Add predictions to test1_data and filter grey area\n",
        "test1_data = test1_data.copy()  # Avoid SettingWithCopyWarning\n",
        "test1_data['SVM_Flag'] = svm_pred_test1\n",
        "grey_area = test1_data[test1_data['SVM_Flag'] == -1]\n",
        "\n",
        "# Step 4: Prepare RF training data (use original labels)\n",
        "X_grey = grey_area.drop(['Time', 'Class', 'SVM_Flag'], axis=1)\n",
        "y_grey = grey_area['Class']\n",
        "\n",
        "# Step 5: Train Random Forest (remove n_bins parameter)\n",
        "rf = RandomForestClassifier(\n",
        "    n_estimators=200,\n",
        "    max_depth=20,\n",
        "    class_weight='balanced',\n",
        "    random_state=42,\n",
        "    verbose=1\n",
        ")\n",
        "rf.fit(X_grey, y_grey)\n",
        "\n",
        "# Step 6: Predict on test2_data and evaluate\n",
        "X_test2 = test2_data.drop(['Time', 'Class'], axis=1)\n",
        "y_test2 = test2_data['Class']\n",
        "rf_pred_test2 = rf.predict(X_test2)\n",
        "\n"
      ]
    },
    {
      "cell_type": "code",
      "source": [
        "from sklearn.metrics import classification_report, confusion_matrix\n",
        "\n",
        "\n",
        "# 1. OneClassSVM on Train Set\n",
        "# svm_pred_train: +1 (normal), -1 (anomaly). Map to 0 (legit), 1 (fraud) for report.\n",
        "X_train = train_data.drop(['Time', 'Class'], axis=1)\n",
        "y_train = train_data['Class']\n",
        "X_train.isnull().sum().sum(), y_train.isnull().sum().sum()\n"
      ],
      "metadata": {
        "colab": {
          "base_uri": "https://localhost:8080/"
        },
        "id": "2kMhGEQEXORL",
        "outputId": "14401e49-1247-46ef-f578-7e3f5200ac90"
      },
      "execution_count": 6,
      "outputs": [
        {
          "output_type": "execute_result",
          "data": {
            "text/plain": [
              "(np.int64(0), np.int64(0))"
            ]
          },
          "metadata": {},
          "execution_count": 6
        }
      ]
    },
    {
      "cell_type": "code",
      "source": [
        "labels = [0, 1]\n",
        "target_names = ['Legitimate', 'Fraud']\n",
        "\n",
        "svm_pred_train = svm.predict(X_train)\n",
        "svm_pred_train_labels = np.where(svm_pred_train == 1, 0, 1)\n",
        "\n",
        "\n",
        "# 1. OneClassSVM on Train Set\n",
        "print(\"\\n[OneClassSVM] Classification Report on Train Set:\")\n",
        "print(classification_report(y_train, svm_pred_train_labels, target_names=target_names))\n",
        "print(\"[OneClassSVM] Confusion Matrix on Train Set:\")\n",
        "print(confusion_matrix(y_train, svm_pred_train_labels, labels=labels))\n",
        "\n",
        "\n",
        "# 2. OneClassSVM on Test1 Set\n",
        "y_test1 = test1_data['Class']\n",
        "svm_pred_test1_labels = np.where(test1_data['SVM_Flag'] == 1, 0, 1)\n",
        "print(\"\\n[OneClassSVM] Classification Report on Test1 Set:\")\n",
        "print(classification_report(y_test1, svm_pred_test1_labels, target_names=target_names))\n",
        "print(\"[OneClassSVM] Confusion Matrix on Test1 Set:\")\n",
        "print(confusion_matrix(y_test1, svm_pred_test1_labels, labels=labels))\n",
        "\n",
        "\n",
        "# 3. Random Forest on Grey Area Transactions (from Test1)\n",
        "# y_grey and X_grey already defined\n",
        "y_grey_pred = rf.predict(X_grey)\n",
        "print(\"\\n[RandomForest] Classification Report on SVM-Flagged (Grey Area) Transactions (Test1):\")\n",
        "print(classification_report(y_grey, y_grey_pred, target_names=target_names))\n",
        "print(\"[RandomForest] Confusion Matrix on SVM-Flagged (Grey Area) Transactions (Test1):\")\n",
        "print(confusion_matrix(y_grey, y_grey_pred, labels=labels))\n",
        "\n",
        "# 4. Random Forest on Test2 Set\n",
        "# y_test2 and rf_pred_test2 already defined\n",
        "print(\"\\n[RandomForest] Classification Report on Test2 Set:\")\n",
        "print(classification_report(y_test2, rf_pred_test2, target_names=target_names))\n",
        "print(\"[RandomForest] Confusion Matrix on Test2 Set:\")\n",
        "print(confusion_matrix(y_test2, rf_pred_test2, labels=labels))"
      ],
      "metadata": {
        "id": "cTEWPP40lnip",
        "colab": {
          "base_uri": "https://localhost:8080/"
        },
        "outputId": "61bf9797-7273-4645-f545-6a538325b78a"
      },
      "execution_count": 7,
      "outputs": [
        {
          "output_type": "stream",
          "name": "stdout",
          "text": [
            "\n",
            "[OneClassSVM] Classification Report on Train Set:\n",
            "              precision    recall  f1-score   support\n",
            "\n",
            "  Legitimate       1.00      0.97      0.99    199020\n",
            "       Fraud       0.06      0.87      0.11       344\n",
            "\n",
            "    accuracy                           0.97    199364\n",
            "   macro avg       0.53      0.92      0.55    199364\n",
            "weighted avg       1.00      0.97      0.99    199364\n",
            "\n",
            "[OneClassSVM] Confusion Matrix on Train Set:\n",
            "[[194021   4999]\n",
            " [    46    298]]\n",
            "\n",
            "[OneClassSVM] Classification Report on Test1 Set:\n",
            "              precision    recall  f1-score   support\n",
            "\n",
            "  Legitimate       1.00      0.95      0.97     42648\n",
            "       Fraud       0.03      0.82      0.05        74\n",
            "\n",
            "    accuracy                           0.95     42722\n",
            "   macro avg       0.51      0.89      0.51     42722\n",
            "weighted avg       1.00      0.95      0.97     42722\n",
            "\n",
            "[OneClassSVM] Confusion Matrix on Test1 Set:\n",
            "[[40449  2199]\n",
            " [   13    61]]\n",
            "\n",
            "[RandomForest] Classification Report on SVM-Flagged (Grey Area) Transactions (Test1):\n",
            "              precision    recall  f1-score   support\n",
            "\n",
            "  Legitimate       1.00      1.00      1.00      2199\n",
            "       Fraud       1.00      1.00      1.00        61\n",
            "\n",
            "    accuracy                           1.00      2260\n",
            "   macro avg       1.00      1.00      1.00      2260\n",
            "weighted avg       1.00      1.00      1.00      2260\n",
            "\n",
            "[RandomForest] Confusion Matrix on SVM-Flagged (Grey Area) Transactions (Test1):\n",
            "[[2199    0]\n",
            " [   0   61]]\n",
            "\n",
            "[RandomForest] Classification Report on Test2 Set:\n",
            "              precision    recall  f1-score   support\n",
            "\n",
            "  Legitimate       1.00      1.00      1.00     42647\n",
            "       Fraud       0.78      0.68      0.72        74\n",
            "\n",
            "    accuracy                           1.00     42721\n",
            "   macro avg       0.89      0.84      0.86     42721\n",
            "weighted avg       1.00      1.00      1.00     42721\n",
            "\n",
            "[RandomForest] Confusion Matrix on Test2 Set:\n",
            "[[42633    14]\n",
            " [   24    50]]\n"
          ]
        },
        {
          "output_type": "stream",
          "name": "stderr",
          "text": [
            "[Parallel(n_jobs=1)]: Done  49 tasks      | elapsed:    0.0s\n",
            "[Parallel(n_jobs=1)]: Done 199 tasks      | elapsed:    0.0s\n",
            "[Parallel(n_jobs=1)]: Done 200 out of 200 | elapsed:    0.0s finished\n"
          ]
        }
      ]
    },
    {
      "cell_type": "code",
      "source": [],
      "metadata": {
        "id": "Tam7DsVVDabJ"
      },
      "execution_count": null,
      "outputs": []
    }
  ]
}