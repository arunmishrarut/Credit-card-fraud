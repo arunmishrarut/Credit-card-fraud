{
  "cells": [
    {
      "cell_type": "code",
      "execution_count": null,
      "metadata": {
        "id": "4CQ3fkWVNTFD"
      },
      "outputs": [],
      "source": [
        "#EDA of dataset\n",
        "# Load data\n",
        "import numpy as np\n",
        "import pandas as pd\n",
        "data1 = pd.read_csv('data1.csv')\n",
        "\n",
        "\n"
      ]
    },
    {
      "cell_type": "code",
      "execution_count": null,
      "metadata": {
        "id": "7-hSpZ_DNp_O",
        "colab": {
          "base_uri": "https://localhost:8080/"
        },
        "outputId": "dad03e0c-7032-4ac3-cd59-6e13580af203"
      },
      "outputs": [
        {
          "output_type": "stream",
          "name": "stdout",
          "text": [
            "0\n",
            "492\n"
          ]
        }
      ],
      "source": [
        "print(data1.isnull().sum().sum())  # Total number of NaNs\n",
        "print(data1['Class'].sum())"
      ]
    },
    {
      "cell_type": "code",
      "execution_count": null,
      "metadata": {
        "id": "pDeRbF4EWB-U",
        "colab": {
          "base_uri": "https://localhost:8080/"
        },
        "outputId": "d4c24564-a857-4edc-f2d4-15758f58dd4a"
      },
      "outputs": [
        {
          "output_type": "stream",
          "name": "stdout",
          "text": [
            "0 0 0\n",
            "344 74 74\n"
          ]
        }
      ],
      "source": [
        "import numpy as np\n",
        "import pandas as pd\n",
        "\n",
        "from sklearn.metrics import accuracy_score, classification_report\n",
        "from sklearn.model_selection import train_test_split\n",
        "from sklearn.svm import OneClassSVM\n",
        "from sklearn.ensemble import RandomForestClassifier\n",
        "\n",
        "\n",
        "#seed_value changed\n",
        "# Step 1: Split dataset into 70%, 15%, 15% without stratification\n",
        "train_data, temp_data = train_test_split(data1, test_size=0.3, random_state=60, stratify = data1['Class'])\n",
        "test1_data, test2_data = train_test_split(temp_data, test_size=0.5, random_state=60, stratify = temp_data['Class'])\n",
        "print(train_data.isnull().sum().sum(),test1_data.isnull().sum().sum(),test2_data.isnull().sum().sum())\n",
        "print(train_data['Class'].sum(),test1_data['Class'].sum(),test2_data['Class'].sum())\n",
        "\n"
      ]
    },
    {
      "cell_type": "code",
      "execution_count": null,
      "metadata": {
        "colab": {
          "base_uri": "https://localhost:8080/"
        },
        "id": "M5hmYElyWENv",
        "outputId": "36dd4b9d-49a8-4138-f7b2-926730c21ae9"
      },
      "outputs": [
        {
          "metadata": {
            "tags": null
          },
          "name": "stdout",
          "output_type": "stream",
          "text": [
            "[LibSVM]"
          ]
        }
      ],
      "source": [
        "# Step 2: Prepare SVM training data (legitimate transactions only from train_data)\n",
        "X_train_nonfraud = train_data[train_data['Class'] == 0].drop(['Class'], axis=1)\n",
        "\n",
        "# Train OneClassSVM\n",
        "svm = OneClassSVM(gamma='auto', nu=0.01, verbose=1)\n",
        "svm.fit(X_train_nonfraud)\n",
        "\n",
        "# Step 3: Detect grey area transactions in test1_data\n",
        "X_test1 = test1_data.drop([ 'Class'], axis=1)\n",
        "svm_pred_test1 = svm.predict(X_test1)  # -1 = anomaly, 1 = normal\n",
        "\n",
        "# Add predictions to test1_data and filter grey area\n",
        "test1_data = test1_data.copy()  # Avoid SettingWithCopyWarning\n",
        "test1_data['SVM_Flag'] = svm_pred_test1\n",
        "grey_area = test1_data[test1_data['SVM_Flag'] == -1]\n",
        "print(len(grey_area))\n",
        "\n",
        "\n",
        "\n"
      ]
    },
    {
      "cell_type": "code",
      "execution_count": null,
      "metadata": {
        "id": "1gR7NrdF7DO0",
        "outputId": "bb2e2854-c19f-4b39-9c69-883efa036c0a"
      },
      "outputs": [
        {
          "name": "stderr",
          "output_type": "stream",
          "text": [
            "[Parallel(n_jobs=1)]: Done  49 tasks      | elapsed:    0.3s\n",
            "[Parallel(n_jobs=1)]: Done 199 tasks      | elapsed:    1.4s\n",
            "[Parallel(n_jobs=1)]: Done  49 tasks      | elapsed:    0.0s\n",
            "[Parallel(n_jobs=1)]: Done 199 tasks      | elapsed:    0.1s\n"
          ]
        }
      ],
      "source": [
        "# Step 4: Prepare RF training data (use original labels)\n",
        "X_grey = grey_area.drop(['Class', 'SVM_Flag'], axis=1)\n",
        "y_grey = grey_area['Class']\n",
        "\n",
        "# Step 5: Train Random Forest (remove n_bins parameter)\n",
        "rf = RandomForestClassifier(\n",
        "    n_estimators=200,\n",
        "    max_depth=20,\n",
        "    class_weight='balanced',\n",
        "    random_state=42,\n",
        "    verbose=1\n",
        ")\n",
        "rf.fit(X_grey, y_grey)\n",
        "\n",
        "# Step 6: Predict on test2_data and evaluate\n",
        "X_test2 = test2_data.drop([ 'Class'], axis=1)\n",
        "y_test2 = test2_data['Class']\n",
        "rf_pred_test2 = rf.predict(X_test2)"
      ]
    },
    {
      "cell_type": "code",
      "execution_count": null,
      "metadata": {
        "colab": {
          "base_uri": "https://localhost:8080/"
        },
        "id": "2kMhGEQEXORL",
        "outputId": "dfa978a4-2052-46c4-fbe6-a5bea3dcb18e"
      },
      "outputs": [
        {
          "data": {
            "text/plain": [
              "(0, 0)"
            ]
          },
          "execution_count": 19,
          "metadata": {},
          "output_type": "execute_result"
        }
      ],
      "source": [
        "from sklearn.metrics import classification_report, confusion_matrix\n",
        "\n",
        "\n",
        "# 1. OneClassSVM on Train Set\n",
        "# svm_pred_train: +1 (normal), -1 (anomaly). Map to 0 (legit), 1 (fraud) for report.\n",
        "X_train = train_data.drop(['Class'], axis=1)\n",
        "y_train = train_data['Class']\n",
        "X_train.isnull().sum().sum(), y_train.isnull().sum().sum()\n"
      ]
    },
    {
      "cell_type": "code",
      "execution_count": null,
      "metadata": {
        "colab": {
          "base_uri": "https://localhost:8080/"
        },
        "id": "cTEWPP40lnip",
        "outputId": "d085d2be-ece3-415b-c29a-2946478ae253"
      },
      "outputs": [
        {
          "name": "stdout",
          "output_type": "stream",
          "text": [
            "\n",
            "[OneClassSVM] Classification Report on Train Set:\n",
            "              precision    recall  f1-score   support\n",
            "\n",
            "  Legitimate       1.00      0.98      0.99    199006\n",
            "       Fraud       0.06      0.84      0.11       358\n",
            "\n",
            "    accuracy                           0.98    199364\n",
            "   macro avg       0.53      0.91      0.55    199364\n",
            "weighted avg       1.00      0.98      0.99    199364\n",
            "\n",
            "[OneClassSVM] Confusion Matrix on Train Set:\n",
            "[[194105   4901]\n",
            " [    58    300]]\n",
            "\n",
            "[OneClassSVM] Classification Report on Test1 Set:\n",
            "              precision    recall  f1-score   support\n",
            "\n",
            "  Legitimate       1.00      0.95      0.97     42664\n",
            "       Fraud       0.02      0.89      0.04        57\n",
            "\n",
            "    accuracy                           0.95     42721\n",
            "   macro avg       0.51      0.92      0.51     42721\n",
            "weighted avg       1.00      0.95      0.97     42721\n",
            "\n",
            "[OneClassSVM] Confusion Matrix on Test1 Set:\n",
            "[[40388  2276]\n",
            " [    6    51]]\n",
            "\n",
            "[RandomForest] Classification Report on SVM-Flagged (Grey Area) Transactions (Test1):\n",
            "              precision    recall  f1-score   support\n",
            "\n",
            "  Legitimate       1.00      1.00      1.00      2276\n",
            "       Fraud       1.00      1.00      1.00        51\n",
            "\n",
            "    accuracy                           1.00      2327\n",
            "   macro avg       1.00      1.00      1.00      2327\n",
            "weighted avg       1.00      1.00      1.00      2327\n",
            "\n",
            "[RandomForest] Confusion Matrix on SVM-Flagged (Grey Area) Transactions (Test1):\n",
            "[[2276    0]\n",
            " [   0   51]]\n",
            "\n",
            "[RandomForest] Classification Report on Test2 Set:\n",
            "              precision    recall  f1-score   support\n",
            "\n",
            "  Legitimate       1.00      1.00      1.00     42645\n",
            "       Fraud       0.98      0.65      0.78        77\n",
            "\n",
            "    accuracy                           1.00     42722\n",
            "   macro avg       0.99      0.82      0.89     42722\n",
            "weighted avg       1.00      1.00      1.00     42722\n",
            "\n",
            "[RandomForest] Confusion Matrix on Test2 Set:\n",
            "[[42644     1]\n",
            " [   27    50]]\n"
          ]
        },
        {
          "name": "stderr",
          "output_type": "stream",
          "text": [
            "[Parallel(n_jobs=1)]: Done  49 tasks      | elapsed:    0.0s\n",
            "[Parallel(n_jobs=1)]: Done 199 tasks      | elapsed:    0.0s\n"
          ]
        }
      ],
      "source": [
        "labels = [0, 1]\n",
        "target_names = ['Legitimate', 'Fraud']\n",
        "\n",
        "svm_pred_train = svm.predict(X_train)\n",
        "svm_pred_train_labels = np.where(svm_pred_train == 1, 0, 1)\n",
        "\n",
        "\n",
        "# 1. OneClassSVM on Train Set\n",
        "print(\"\\n[OneClassSVM] Classification Report on Train Set:\")\n",
        "print(classification_report(y_train, svm_pred_train_labels, target_names=target_names))\n",
        "print(\"[OneClassSVM] Confusion Matrix on Train Set:\")\n",
        "print(confusion_matrix(y_train, svm_pred_train_labels, labels=labels))\n",
        "\n",
        "\n",
        "# 2. OneClassSVM on Test1 Set\n",
        "y_test1 = test1_data['Class']\n",
        "svm_pred_test1_labels = np.where(test1_data['SVM_Flag'] == 1, 0, 1)\n",
        "print(\"\\n[OneClassSVM] Classification Report on Test1 Set:\")\n",
        "print(classification_report(y_test1, svm_pred_test1_labels, target_names=target_names))\n",
        "print(\"[OneClassSVM] Confusion Matrix on Test1 Set:\")\n",
        "print(confusion_matrix(y_test1, svm_pred_test1_labels, labels=labels))\n",
        "\n",
        "\n",
        "# 3. Random Forest on Grey Area Transactions (from Test1)\n",
        "# y_grey and X_grey already defined\n",
        "y_grey_pred = rf.predict(X_grey)\n",
        "print(\"\\n[RandomForest] Classification Report on SVM-Flagged (Grey Area) Transactions (Test1):\")\n",
        "print(classification_report(y_grey, y_grey_pred, target_names=target_names))\n",
        "print(\"[RandomForest] Confusion Matrix on SVM-Flagged (Grey Area) Transactions (Test1):\")\n",
        "print(confusion_matrix(y_grey, y_grey_pred, labels=labels))\n",
        "\n",
        "# 4. Random Forest on Test2 Set\n",
        "# y_test2 and rf_pred_test2 already defined\n",
        "print(\"\\n[RandomForest] Classification Report on Test2 Set:\")\n",
        "print(classification_report(y_test2, rf_pred_test2, target_names=target_names))\n",
        "print(\"[RandomForest] Confusion Matrix on Test2 Set:\")\n",
        "print(confusion_matrix(y_test2, rf_pred_test2, labels=labels))"
      ]
    },
    {
      "cell_type": "code",
      "execution_count": null,
      "metadata": {
        "id": "LKobLys77DO2"
      },
      "outputs": [],
      "source": []
    },
    {
      "cell_type": "code",
      "execution_count": null,
      "metadata": {
        "id": "o2CU93SG7DO2"
      },
      "outputs": [],
      "source": []
    }
  ],
  "metadata": {
    "colab": {
      "provenance": []
    },
    "kernelspec": {
      "display_name": "Python 3 (ipykernel)",
      "language": "python",
      "name": "python3"
    },
    "language_info": {
      "codemirror_mode": {
        "name": "ipython",
        "version": 3
      },
      "file_extension": ".py",
      "mimetype": "text/x-python",
      "name": "python",
      "nbconvert_exporter": "python",
      "pygments_lexer": "ipython3",
      "version": "3.11.11"
    }
  },
  "nbformat": 4,
  "nbformat_minor": 0
}