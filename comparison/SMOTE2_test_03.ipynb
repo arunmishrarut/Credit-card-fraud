{
  "nbformat": 4,
  "nbformat_minor": 0,
  "metadata": {
    "colab": {
      "provenance": []
    },
    "kernelspec": {
      "name": "python3",
      "display_name": "Python 3"
    },
    "language_info": {
      "name": "python"
    }
  },
  "cells": [
    {
      "cell_type": "code",
      "execution_count": 5,
      "metadata": {
        "id": "BDSwE3R9GeDU",
        "colab": {
          "base_uri": "https://localhost:8080/"
        },
        "outputId": "2b411b5e-a962-4d05-ff8f-c0e63b4cc14b"
      },
      "outputs": [
        {
          "output_type": "stream",
          "name": "stdout",
          "text": [
            "Accuracy: 0.9993914071369217\n",
            "\n",
            "Confusion Matrix:\n",
            " [[85271    22]\n",
            " [   30   120]]\n",
            "\n",
            "Classification Report:\n",
            "               precision    recall  f1-score   support\n",
            "\n",
            "           0       1.00      1.00      1.00     85293\n",
            "           1       0.85      0.80      0.82       150\n",
            "\n",
            "    accuracy                           1.00     85443\n",
            "   macro avg       0.92      0.90      0.91     85443\n",
            "weighted avg       1.00      1.00      1.00     85443\n",
            "\n"
          ]
        }
      ],
      "source": [
        "import pandas as pd\n",
        "from sklearn.model_selection import train_test_split\n",
        "from sklearn.ensemble import RandomForestClassifier\n",
        "from sklearn.metrics import accuracy_score, confusion_matrix, classification_report\n",
        "from imblearn.over_sampling import SMOTE\n",
        "\n",
        "data1 = pd.read_csv('data1.csv')\n",
        "\n",
        "\n",
        "# Assume data1 is your DataFrame and 'target' is the label column\n",
        "X = data1.drop('Class', axis=1)\n",
        "y = data1['Class']\n",
        "\n",
        "# Split before SMOTE to avoid data leakage (recommended practice)\n",
        "X_train, X_test, y_train, y_test = train_test_split(X, y, test_size=0.2, random_state=43 )\n",
        "\n",
        "# Apply SMOTE to the training data only\n",
        "smote = SMOTE(random_state=42)\n",
        "X_train_res, y_train_res = smote.fit_resample(X_train, y_train)\n",
        "\n",
        "# Train a classifier (Random Forest as an example)\n",
        "clf = RandomForestClassifier(random_state=42)\n",
        "clf.fit(X_train_res, y_train_res)\n",
        "\n",
        "# Predict on the test set\n",
        "y_pred = clf.predict(X_test)\n",
        "\n",
        "# Evaluate\n",
        "print(\"Accuracy:\", accuracy_score(y_test, y_pred))\n",
        "print(\"\\nConfusion Matrix:\\n\", confusion_matrix(y_test, y_pred))\n",
        "print(\"\\nClassification Report:\\n\", classification_report(y_test, y_pred))\n"
      ]
    },
    {
      "cell_type": "code",
      "source": [],
      "metadata": {
        "id": "Ek5JtXDJGnhI"
      },
      "execution_count": null,
      "outputs": []
    }
  ]
}